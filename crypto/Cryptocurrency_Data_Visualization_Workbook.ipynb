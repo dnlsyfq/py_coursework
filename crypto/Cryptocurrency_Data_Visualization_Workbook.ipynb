{
  "nbformat": 4,
  "nbformat_minor": 0,
  "metadata": {
    "colab": {
      "name": "Cryptocurrency Data Visualization Workbook.ipynb",
      "provenance": []
    },
    "kernelspec": {
      "name": "python3",
      "display_name": "Python 3"
    }
  },
  "cells": [
    {
      "cell_type": "markdown",
      "metadata": {
        "id": "RsafkiCsCPm-"
      },
      "source": [
        "# Cryptocurrency Data Visualization using Plotly Express"
      ]
    },
    {
      "cell_type": "code",
      "metadata": {
        "id": "vgR_JlnFBn-p"
      },
      "source": [
        "## Switch to GPU mode for faster Computation (Runtime> Change runtime> GPU)"
      ],
      "execution_count": null,
      "outputs": []
    },
    {
      "cell_type": "markdown",
      "metadata": {
        "id": "RfLNPr0wC32U"
      },
      "source": [
        "##Task 1 : Importing all the necessary libraries"
      ]
    },
    {
      "cell_type": "code",
      "metadata": {
        "id": "-7J3Ipl3CuAc"
      },
      "source": [
        "import pandas as pd       #Data analysis and Manipulation\n"
      ],
      "execution_count": null,
      "outputs": []
    },
    {
      "cell_type": "code",
      "metadata": {
        "id": "kwDmcsrJDJD5"
      },
      "source": [
        "import plotly.offline as py           # create table\n",
        "import plotly.graph_objs as go        #create candlestick charts             # Importing Plotly\n",
        "import plotly.express as px           #create Violin plots, pie charts, box plot, scatter plots,line graph, area graph"
      ],
      "execution_count": null,
      "outputs": []
    },
    {
      "cell_type": "code",
      "metadata": {
        "id": "Qzzo1gG9DLIm"
      },
      "source": [
        "import plotly.io as pio\n",
        "pio.renderers.default = 'colab'     # To initialize plotly "
      ],
      "execution_count": null,
      "outputs": []
    },
    {
      "cell_type": "markdown",
      "metadata": {
        "id": "l_ugdJz_DOaS"
      },
      "source": [
        "##Task 2 : Importing the dataset and analyzing it"
      ]
    },
    {
      "cell_type": "code",
      "metadata": {
        "id": "oYIFNQEmDX5C"
      },
      "source": [
        ""
      ],
      "execution_count": null,
      "outputs": []
    },
    {
      "cell_type": "code",
      "metadata": {
        "id": "CR1PY6A_DZFc"
      },
      "source": [
        ""
      ],
      "execution_count": null,
      "outputs": []
    },
    {
      "cell_type": "code",
      "metadata": {
        "id": "gUf_gBb4DaS_"
      },
      "source": [
        ""
      ],
      "execution_count": null,
      "outputs": []
    },
    {
      "cell_type": "markdown",
      "metadata": {
        "id": "_pfAMzZGDbDl"
      },
      "source": [
        "##Task 3 : Data Visualization using Violin plots, Pie chart and Box plot"
      ]
    },
    {
      "cell_type": "code",
      "metadata": {
        "id": "IvyJ87QoDs9T"
      },
      "source": [
        ""
      ],
      "execution_count": null,
      "outputs": []
    },
    {
      "cell_type": "code",
      "metadata": {
        "id": "ZGMZVi4wDtv7"
      },
      "source": [
        ""
      ],
      "execution_count": null,
      "outputs": []
    },
    {
      "cell_type": "code",
      "metadata": {
        "id": "Cvvkco5hDt74"
      },
      "source": [
        ""
      ],
      "execution_count": null,
      "outputs": []
    },
    {
      "cell_type": "markdown",
      "metadata": {
        "id": "lH8QstgbDuT7"
      },
      "source": [
        "##Task 4: Data Visualization using Scatter plots"
      ]
    },
    {
      "cell_type": "code",
      "metadata": {
        "id": "wZDNBFwUDyob"
      },
      "source": [
        ""
      ],
      "execution_count": null,
      "outputs": []
    },
    {
      "cell_type": "code",
      "metadata": {
        "id": "TYGPG1raDzRn"
      },
      "source": [
        ""
      ],
      "execution_count": null,
      "outputs": []
    },
    {
      "cell_type": "markdown",
      "metadata": {
        "id": "6QE_AJcODzuj"
      },
      "source": [
        "##Task 5: Crypto specific Data Visualization- Bitcoin using Line graph, Area graph and Candlestick charts"
      ]
    },
    {
      "cell_type": "code",
      "metadata": {
        "id": "-cEFmDXEEBsn"
      },
      "source": [
        ""
      ],
      "execution_count": null,
      "outputs": []
    },
    {
      "cell_type": "code",
      "metadata": {
        "id": "RfoehzC0EDAq"
      },
      "source": [
        ""
      ],
      "execution_count": null,
      "outputs": []
    },
    {
      "cell_type": "code",
      "metadata": {
        "id": "D7uYL6vUEDFz"
      },
      "source": [
        ""
      ],
      "execution_count": null,
      "outputs": []
    }
  ]
}